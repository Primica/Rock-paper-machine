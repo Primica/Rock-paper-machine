{
 "cells": [
  {
   "cell_type": "markdown",
   "metadata": {},
   "source": [
    "# Analyse des parties de pierre-papier-ciseaux \n",
    "> Ce notebook analyse les données des parties jouées contre l'IA"
   ]
  },
  {
   "cell_type": "code",
   "execution_count": 1,
   "metadata": {},
   "outputs": [],
   "source": [
    "import pandas as pd\n",
    "import matplotlib.pyplot as plt\n",
    "import seaborn as sns\n",
    "from datetime import datetime \n",
    "import os \n",
    "\n",
    "# Configuration du style \n",
    "plt.style.use('default')\n",
    "sns.set_theme()\n",
    "plt.rcParams['figure.figsize'] = (12, 8)"
   ]
  },
  {
   "cell_type": "markdown",
   "metadata": {},
   "source": [
    "## Chargement des données "
   ]
  },
  {
   "cell_type": "code",
   "execution_count": null,
   "metadata": {},
   "outputs": [],
   "source": [
    "def charger_donnees():\n",
    "    if not os.path.exists('historique_parties.csv'):\n",
    "        print(\"Acucun historique de parties trouvé\")\n",
    "        return None \n",
    "    \n",
    "    df = pd.read_csv('historique_parties.csv')\n",
    "    df['date'] = pd.to_datetime(df['date'])\n",
    "    return df \n",
    "\n",
    "df = charger_donnees()\n",
    "if df is not None:\n",
    "    print(f\"Nombre total de parties : {len(df)}\")\n",
    "    df.head()"
   ]
  },
  {
   "cell_type": "markdown",
   "metadata": {},
   "source": [
    "## Distribution des résultats "
   ]
  },
  {
   "cell_type": "code",
   "execution_count": null,
   "metadata": {},
   "outputs": [],
   "source": [
    "if df is not None:\n",
    "    plt.figure(figsize=(10, 6))\n",
    "    df['resultat'].value_counts().plot(kind='pie', autopct='%1.1f%%')\n",
    "    plt.title('Répartition des résultats')\n",
    "    plt.show()"
   ]
  },
  {
   "cell_type": "markdown",
   "metadata": {},
   "source": [
    "## Évolution des résultats dans le temps"
   ]
  },
  {
   "cell_type": "code",
   "execution_count": null,
   "metadata": {},
   "outputs": [],
   "source": [
    "if df is not None:\n",
    "    df['victoire_joueur'] = (df['resultat'] == \"Vous avez gagné!\").astype(int)\n",
    "    df['victoire_ia'] = (df['resultat'] == \"L'IA a gagné!\").astype(int)\n",
    "    df['egalite'] = (df['resultat'] == \"Égalité!\").astype(int)\n",
    "\n",
    "    plt.figure(figsize=(12, 6))\n",
    "    df[['victoire_joueur', 'victoire_ia', 'egalite']].cumsum().plot()\n",
    "    plt.title('Évolution des Résultats dans le Temps')\n",
    "    plt.xlabel('Nombre de Parties')\n",
    "    plt.ylabel('Nombre Cumulé')\n",
    "    plt.legend(['Victoires Joueur', 'Victoires IA', 'Égalités'])\n",
    "    plt.grid(True)\n",
    "    plt.show()"
   ]
  },
  {
   "cell_type": "markdown",
   "metadata": {},
   "source": [
    "## Distribution des choix "
   ]
  },
  {
   "cell_type": "code",
   "execution_count": null,
   "metadata": {},
   "outputs": [],
   "source": [
    "if df is not None:\n",
    "    fig, (ax1, ax2) = plt.subplots(1, 2, figsize=(15, 6))\n",
    "\n",
    "        # Distribution des choix du joueur\n",
    "    df['choix_joueur'].value_counts().plot(kind='bar', ax=ax1)\n",
    "    ax1.set_title('Distribution des Choix du Joueur')\n",
    "    ax1.set_xlabel('Choix')\n",
    "    ax1.set_ylabel('Nombre de fois')\n",
    "\n",
    "    # Distribution des choix de l'IA\n",
    "    df['choix_ia'].value_counts().plot(kind='bar', ax=ax2)\n",
    "    ax2.set_title(\"Distribution des Choix de l'IA\")\n",
    "    ax2.set_xlabel('Choix')\n",
    "    ax2.set_ylabel('Nombre de fois')\n",
    "\n",
    "    plt.tight_layout()\n",
    "    plt.show()"
   ]
  },
  {
   "cell_type": "markdown",
   "metadata": {},
   "source": [
    "## Analyse des tendances"
   ]
  },
  {
   "cell_type": "code",
   "execution_count": null,
   "metadata": {},
   "outputs": [],
   "source": [
    "if df is not None:\n",
    "    # Calcul des statistiques\n",
    "    total_parties = len(df)\n",
    "    victoires_joueur = df['victoire_joueur'].sum()\n",
    "    victoires_ia = df['victoire_ia'].sum()\n",
    "    egalites = df['egalite'].sum()\n",
    "\n",
    "    print(f\"Statistiques détaillées :\")\n",
    "    print(f\"Nombre total de parties : {total_parties}\")\n",
    "    print(f\"Victoires du joueur : {victoires_joueur} ({victoires_joueur/total_parties*100:.1f}%)\")\n",
    "    print(f\"Victoires de l'IA : {victoires_ia} ({victoires_ia/total_parties*100:.1f}%)\")\n",
    "    print(f\"Égalités : {egalites} ({egalites/total_parties*100:.1f}%)\")\n",
    "\n",
    "    # Analyse des 10 dernières parties\n",
    "    if len(df) >= 10:\n",
    "        dernieres_10 = df.tail(10)\n",
    "        taux_victoire_recent = dernieres_10['victoire_joueur'].mean() * 100\n",
    "        print(f\"\\nTaux de victoire sur les 10 dernières parties : {taux_victoire_recent:.1f}%\")"
   ]
  },
  {
   "cell_type": "markdown",
   "metadata": {},
   "source": [
    "## Matrice de confusion des choix "
   ]
  },
  {
   "cell_type": "code",
   "execution_count": null,
   "metadata": {},
   "outputs": [],
   "source": [
    "if df is not None:\n",
    "    # Création de la matrice de confusion\n",
    "    confusion = pd.crosstab(df['choix_joueur'], df['choix_ia'])\n",
    "\n",
    "    plt.figure(figsize=(10, 8))\n",
    "    sns.heatmap(confusion, annot=True, fmt='d', cmap='Blues')\n",
    "    plt.title('Matrice de Confusion des Choix')\n",
    "    plt.xlabel(\"Choix de l'IA\")\n",
    "    plt.ylabel(\"Choix du Joueur\")\n",
    "    plt.show()"
   ]
  }
 ],
 "metadata": {
  "kernelspec": {
   "display_name": ".venv",
   "language": "python",
   "name": "python3"
  },
  "language_info": {
   "codemirror_mode": {
    "name": "ipython",
    "version": 3
   },
   "file_extension": ".py",
   "mimetype": "text/x-python",
   "name": "python",
   "nbconvert_exporter": "python",
   "pygments_lexer": "ipython3",
   "version": "3.13.3"
  }
 },
 "nbformat": 4,
 "nbformat_minor": 2
}
